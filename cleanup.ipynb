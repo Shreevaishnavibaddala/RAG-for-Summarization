{
 "cells": [
  {
   "cell_type": "code",
   "execution_count": 6,
   "metadata": {},
   "outputs": [
    {
     "name": "stdout",
     "output_type": "stream",
     "text": [
      "Filtered data saved to filtered_FLAT_RCL.txt\n"
     ]
    }
   ],
   "source": [
    "import pandas as pd\n",
    "\n",
    "# Define the file path\n",
    "file_path = \"FLAT_RCL.txt\"\n",
    "output_file = \"filtered_FLAT_RCL.txt\"\n",
    "\n",
    "# Open the file and process it\n",
    "filtered_rows = []\n",
    "with open(file_path, \"r\") as file:\n",
    "    for line in file:\n",
    "        # Split the line into columns\n",
    "        columns = line.strip().split(\"\\t\")\n",
    "        # Check if there are enough columns and the third column is FORD or TOYOTA\n",
    "        if len(columns) > 3 and columns[2].strip() in [\"FORD\", \"TOYOTA\"]:\n",
    "            # Remove the last column and append the filtered line\n",
    "            filtered_rows.append(\"\\t\".join(columns[:-1]))\n",
    "\n",
    "# Save the filtered rows to a new file\n",
    "with open(output_file, \"w\") as file:\n",
    "    file.write(\"\\n\".join(filtered_rows))\n",
    "\n",
    "print(f\"Filtered data saved to {output_file}\")\n"
   ]
  },
  {
   "cell_type": "code",
   "execution_count": 7,
   "metadata": {},
   "outputs": [
    {
     "name": "stdout",
     "output_type": "stream",
     "text": [
      "Processed data saved to final_filtered_FLAT_RCL.csv\n"
     ]
    }
   ],
   "source": [
    "\n",
    "# Define the filtered file path\n",
    "filtered_file = \"filtered_FLAT_RCL.txt\"\n",
    "output_csv = \"filtered_FLAT_RCL.csv\"\n",
    "\n",
    "# Open the filtered file and process it\n",
    "processed_rows = []\n",
    "with open(filtered_file, \"r\") as file:\n",
    "    for line in file:\n",
    "        # Split the line into columns\n",
    "        columns = line.strip().split(\"\\t\")\n",
    "        if len(columns) >= 8:  # Ensure there are enough columns for processing\n",
    "            # Extract required columns\n",
    "            row = [\n",
    "                columns[0],          # id\n",
    "                columns[2],          # make\n",
    "                columns[3],          # model\n",
    "\n",
    "                columns[4],          # year\n",
    "                \" \".join(columns[-3:])  # Merge last three columns into 'summary'\n",
    "            ]\n",
    "            processed_rows.append(row)\n",
    "\n",
    "# Convert to a DataFrame\n",
    "columns_headers = [\"id\",  \"make\", \"model\", \"year\", \"summary\"]\n",
    "df = pd.DataFrame(processed_rows, columns=columns_headers)\n",
    "\n",
    "# Save to a CSV file\n",
    "df.to_csv(output_csv, index=False)\n",
    "\n",
    "print(f\"Processed data saved to {output_csv}\")\n"
   ]
  },
  {
   "cell_type": "code",
   "execution_count": 8,
   "metadata": {},
   "outputs": [
    {
     "name": "stdout",
     "output_type": "stream",
     "text": [
      "Filtered data saved to final_filtered_FLAT_RCL_no_numbers.csv\n"
     ]
    }
   ],
   "source": [
    "import pandas as pd\n",
    "import re\n",
    "\n",
    "# Define the input and output file paths\n",
    "input_csv = \"filtered_FLAT_RCL.csv\"\n",
    "output_csv = \"final_filtered_FLAT_RCL.csv\"\n",
    "\n",
    "# Load the CSV file into a DataFrame\n",
    "df = pd.read_csv(input_csv)\n",
    "\n",
    "# Filter rows where the 'summary' column does NOT begin with a number\n",
    "df_filtered = df[~df['summary'].str.match(r\"^\\d\")]\n",
    "\n",
    "# Save the filtered DataFrame to a new CSV file\n",
    "df_filtered.to_csv(output_csv, index=False)\n",
    "\n",
    "print(f\"Filtered data saved to {output_csv}\")\n"
   ]
  }
 ],
 "metadata": {
  "kernelspec": {
   "display_name": "Python 3",
   "language": "python",
   "name": "python3"
  },
  "language_info": {
   "codemirror_mode": {
    "name": "ipython",
    "version": 3
   },
   "file_extension": ".py",
   "mimetype": "text/x-python",
   "name": "python",
   "nbconvert_exporter": "python",
   "pygments_lexer": "ipython3",
   "version": "3.12.6"
  }
 },
 "nbformat": 4,
 "nbformat_minor": 2
}
